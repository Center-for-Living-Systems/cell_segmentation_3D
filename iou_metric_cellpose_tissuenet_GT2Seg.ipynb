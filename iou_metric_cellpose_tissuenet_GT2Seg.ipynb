{
 "cells": [
  {
   "cell_type": "code",
   "execution_count": 1,
   "metadata": {},
   "outputs": [],
   "source": [
    "import tifffile\n",
    "import pandas as pd\n",
    "import numpy as np\n",
    "import matplotlib.pyplot as plt\n",
    "import os\n",
    "from matplotlib import cm\n",
    "import imageio.v3 as iio"
   ]
  },
  {
   "cell_type": "code",
   "execution_count": 2,
   "metadata": {},
   "outputs": [],
   "source": [
    "# build the colormap with iterative tab10\n",
    "tab20 = cm.get_cmap('tab20', 10)\n",
    "for i in range(10):\n",
    "    tab20.colors = np.concatenate([tab20.colors,tab20.colors],axis=0)    \n",
    "tab20.colors = np.concatenate([np.zeros([1,4]),tab20.colors],axis=0)\n",
    "\n",
    "newmap = cm.get_cmap('tab20', 4000+1)\n",
    "newmap.colors = tab20.colors[0:4000+1,:]\n",
    "newmap.colors[0,:]  = np.zeros([1,4])\n",
    "newmap.colors[0,3] = 1"
   ]
  },
  {
   "cell_type": "code",
   "execution_count": 3,
   "metadata": {},
   "outputs": [
    {
     "name": "stderr",
     "output_type": "stream",
     "text": [
      "c:\\Users\\dingl\\anaconda3\\envs\\segmentation\\lib\\site-packages\\imageio\\plugins\\pillow.py:301: UserWarning: Loading 16-bit (uint16) PNG as int32 due to limitations in pillow's PNG decoder. This will be fixed in a future version of pillow which will make this warning dissapear.\n",
      "  UserWarning,\n"
     ]
    }
   ],
   "source": [
    "GT_folder = 'D:/Ding/UChicago/cellsegmentation/data/tissuenet_v1.1/tiff/C0_selected_GT'\n",
    "pred_folder = 'D:/Ding/UChicago/cellsegmentation/data/tissuenet_v1.1/tiff/C0C1_selected_cellpose_tissuenet'\n",
    "output_folder = 'D:/Ding/UChicago/cellsegmentation/data/tissuenet_v1.1/tiff/C0C1_selected_cellpose_tissuenet_iou'\n",
    "if not os.path.isdir(output_folder):   os.makedirs(output_folder)\n",
    "\n",
    "current_accum = []\n",
    "all_iou_table = pd.DataFrame(columns={'filename','method','seg_label','GT_lable','iou'})\n",
    "\n",
    "method_name = 'cellpose_tissuenet'\n",
    "ch_name = 'cell'\n",
    "\n",
    "filenames = [x for x in os.listdir(GT_folder) if os.path.isfile(os.path.join(GT_folder, x)) and ('.tif' in x)]\n",
    "    \n",
    "for filenameID in range(0,min(len(filenames),10)):\n",
    "\n",
    "    filename = filenames[filenameID]\n",
    "    iou_table = pd.DataFrame(columns={'filename','method','seg_label','GT_lable','iou'})\n",
    "\n",
    "    # switch here\n",
    "    pred_labels = tifffile.imread(os.path.join(GT_folder, filename))\n",
    "    new_filename =  filename.replace(\"seg_C0\", \"img_C0C1\")\n",
    "    GT_labels = iio.imread(os.path.join(pred_folder, new_filename[:-5]+'_cp_masks_tissuenet.png'))\n",
    "                             \n",
    "    pred_labels = (pred_labels+2)*(pred_labels>0)\n",
    "    GT_labels = (GT_labels+2)*(GT_labels>0)\n",
    "\n",
    "    gt_label_list = np.unique(GT_labels)   \n",
    "    pred_label_list = np.unique(pred_labels)\n",
    "    \n",
    "   \n",
    "    for label_i in pred_label_list:\n",
    "        if(label_i==0 or label_i >100000000000):\n",
    "            continue\n",
    "\n",
    "        pred_mask = pred_labels == label_i\n",
    "\n",
    "        map_list = GT_labels[pred_mask>0]\n",
    "        map_list = map_list[map_list>0]\n",
    "\n",
    "        if(map_list.shape[0]==0):\n",
    "            current_accum.append(0)\n",
    "            current_jacc = 0\n",
    "            current_accum.append(current_jacc)\n",
    "            s = pd.Series([filenames, method_name, ch_name, label_i, 0,current_jacc], index=['filename','method','channel','seg_label','GT_lable','iou'])\n",
    "            iou_table = iou_table.append(s,ignore_index=True)\n",
    "            continue\n",
    "\n",
    "        values, counts = np.unique(map_list, return_counts=True)\n",
    "\n",
    "        ind = np.argmax(counts)\n",
    "        gt_label = values[ind]     \n",
    "\n",
    "        true_mask = GT_labels == gt_label\n",
    "\n",
    "        union = pred_mask.astype(int) + 2 * true_mask.astype(int)\n",
    "\n",
    "        [ind_x, ind_y] = np.where(union>0)\n",
    "\n",
    "        min_x = max(min(ind_x)-2,0)\n",
    "        max_x = min(max(ind_x)+2,pred_mask.shape[0])\n",
    "        min_y = max(min(ind_y)-2,0)\n",
    "        max_y = min(max(ind_y)+2,pred_mask.shape[1])\n",
    "        \n",
    "\n",
    "        current_jacc = (np.sum(np.logical_and(true_mask[min_x:max_x, min_y:max_y], pred_mask[min_x:max_x, min_y:max_y])) /\n",
    "            np.sum(np.logical_or(true_mask[min_x:max_x, min_y:max_y], pred_mask[min_x:max_x, min_y:max_y])))\n",
    "\n",
    "\n",
    "        current_accum.append(current_jacc)\n",
    "\n",
    "        if(filenameID==10000000):\n",
    "            cropX, cropY = np.meshgrid(np.arange(0,pred_mask[min_x:max_x, min_y:max_y].shape[1]), np.arange(0,pred_mask[min_x:max_x, min_y:max_y].shape[0]))\n",
    "            \n",
    "\n",
    "            fig, ax = plt.subplots(2,3, figsize=(12,6), dpi=256, facecolor='w', edgecolor='k')\n",
    "            ax[0,0].imshow(pred_mask[min_x:max_x, min_y:max_y].astype(int)*1, cmap=newmap,interpolation='none',vmax = 4001,vmin = 0)\n",
    "            ax[0,0].axis('off')\n",
    "            ax[0,0].title.set_text('seg_label='+\"%d\" % label_i)\n",
    "\n",
    "            ax[0,1].imshow(true_mask[min_x:max_x, min_y:max_y].astype(int)*2, cmap=newmap,interpolation='none',vmax = 4001,vmin = 0)\n",
    "            ax[0,1].axis('off')\n",
    "            ax[0,1].title.set_text('GT_label='+\"%d\" % gt_label)\n",
    "            \n",
    "            ax[0,2].imshow( pred_mask[min_x:max_x, min_y:max_y].astype(int)*1 + 2 * true_mask[min_x:max_x, min_y:max_y].astype(int), cmap=newmap,interpolation='none',vmax = 4001,vmin = 0)\n",
    "            ax[0,2].axis('off')\n",
    "            # ax[0,2].contour(cropX, cropY, pred_mask[min_x:max_x, min_y:max_y].astype(int)* true_mask[min_x:max_x, min_y:max_y].astype(int),1,colors=('yellow'),linewidths=0.5)\n",
    "            ax[0,2].title.set_text('iou='+\"%.2f\" % current_jacc)\n",
    "\n",
    "\n",
    "            X, Y = np.meshgrid(np.arange(0,pred_labels.shape[1]), np.arange(0,pred_labels.shape[0]))\n",
    "            \n",
    "            ax[1,0].imshow(pred_labels, cmap=newmap,interpolation='none',vmax = 4001,vmin = 0)\n",
    "            ax[1,0].axis('off')\n",
    "            ax[1,0].plot( [min_y,max_y,max_y,min_y,min_y],[min_x,min_x,max_x,max_x,min_x])\n",
    "            ax[1,0].contour(X, Y, pred_mask,1,colors=('yellow'),linewidths=0.7)\n",
    "                        \n",
    "            \n",
    "            ax[1,1].imshow(GT_labels, cmap=newmap,interpolation='none',vmax = 4001,vmin = 0)\n",
    "            ax[1,1].axis('off')\n",
    "            ax[1,1].contour(X, Y, true_mask,1,colors=('yellow'),linewidths=0.7)\n",
    "            ax[1,1].plot( [min_y,max_y,max_y,min_y,min_y],[min_x,min_x,max_x,max_x,min_x])\n",
    "            ax[1,2].axis('off')\n",
    "            fig.savefig(os.path.join(output_folder,filename+'_'+method_name+'_'+ch_name+'_seg'+str(label_i) + '_GT'+str(gt_label)+'.png'))\n",
    "\n",
    "            plt.close(fig)      \n",
    "\n",
    "        s = pd.Series([filename, method_name, ch_name, label_i, gt_label,current_jacc], index=['filenames','method','channel','seg_label','GT_lable','iou'])\n",
    "            \n",
    "        iou_table = iou_table.append(s,ignore_index=True)\n",
    "\n",
    "    iou_table.to_csv(os.path.join(output_folder,'gt2seg_'+filename+'_'+method_name+'_'+ch_name+'_iou.csv'))\n",
    "#     all_iou_table.append(iou_table)\n",
    "    \n",
    "# all_iou_table.to_csv(os.path.join(output_folder,'all_'+method_name+'_'+ch_name+'_iou.csv'))\n",
    "   "
   ]
  },
  {
   "cell_type": "code",
   "execution_count": 4,
   "metadata": {},
   "outputs": [],
   "source": [
    "import seaborn"
   ]
  },
  {
   "cell_type": "code",
   "execution_count": 14,
   "metadata": {},
   "outputs": [
    {
     "data": {
      "text/plain": [
       "Text(0.05, 110, 'Recall=0.80')"
      ]
     },
     "execution_count": 14,
     "metadata": {},
     "output_type": "execute_result"
    },
    {
     "data": {
      "image/png": "[encoded data removed]",
      "text/plain": [
       "<Figure size 1536x512 with 1 Axes>"
      ]
     },
     "metadata": {},
     "output_type": "display_data"
    }
   ],
   "source": [
    "import matplotlib.pyplot as plt\n",
    "fig, ax = plt.subplots(1,1, figsize=(6,2), dpi=256, facecolor='w', edgecolor='k')\n",
    "plt.hist(current_accum,100)\n",
    "plt.title(method_name+' '+ch_name+' GT2Seg'+' iou ')\n",
    "res = np.array(current_accum)\n",
    "plt.text(0.05,110,'Recall='+ \"%.2f\" % (res[res>0.6].shape[0]/res.shape[0]))"
   ]
  },
  {
   "cell_type": "code",
   "execution_count": 6,
   "metadata": {},
   "outputs": [
    {
     "data": {
      "text/plain": [
       "1852"
      ]
     },
     "execution_count": 6,
     "metadata": {},
     "output_type": "execute_result"
    }
   ],
   "source": [
    "res.shape[0]"
   ]
  },
  {
   "cell_type": "code",
   "execution_count": 7,
   "metadata": {},
   "outputs": [],
   "source": [
    "# import matplotlib.pyplot as plt\n",
    "# fig, ax = plt.subplots(1,1, figsize=(2,2), dpi=256, facecolor='w', edgecolor='k')\n",
    "# plt.violinplot(current_accum)\n",
    "# plt.title(method_name+' '+ch_name+' iou ')"
   ]
  },
  {
   "cell_type": "code",
   "execution_count": 8,
   "metadata": {},
   "outputs": [],
   "source": [
    "# import matplotlib.pyplot as plt\n",
    "# fig, ax = plt.subplots(1,1, figsize=(2,6), dpi=256, facecolor='w', edgecolor='k')\n",
    "# plt.boxplot(current_accum)\n",
    "# plt.title(method_name+' '+ch_name+' iou ')"
   ]
  },
  {
   "cell_type": "code",
   "execution_count": null,
   "metadata": {},
   "outputs": [],
   "source": []
  }
 ],
 "metadata": {
  "kernelspec": {
   "display_name": "segmentation",
   "language": "python",
   "name": "python3"
  },
  "language_info": {
   "codemirror_mode": {
    "name": "ipython",
    "version": 3
   },
   "file_extension": ".py",
   "mimetype": "text/x-python",
   "name": "python",
   "nbconvert_exporter": "python",
   "pygments_lexer": "ipython3",
   "version": "3.7.1"
  }
 },
 "nbformat": 4,
 "nbformat_minor": 2
}
