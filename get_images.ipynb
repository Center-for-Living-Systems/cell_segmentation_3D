{
 "cells": [
  {
   "cell_type": "code",
   "execution_count": 6,
   "metadata": {},
   "outputs": [],
   "source": [
    "import os\n",
    "\n",
    "import numpy as np\n",
    "import pandas as pd\n",
    "\n",
    "data_dir = 'D:/Ding/UChicago/cellsegmentation/data/tissuenet_v1.1'\n",
    "data = np.load(os.path.join(data_dir, 'tissuenet_v1.1_test.npz'), allow_pickle=True)\n",
    "\n",
    "X = data['X']\n",
    "y = data['y']\n",
    "meta = pd.DataFrame(data['meta'][1:], columns=data['meta'][0])\n",
    "\n"
   ]
  },
  {
   "cell_type": "code",
   "execution_count": 7,
   "metadata": {},
   "outputs": [],
   "source": [
    "import tifffile\n",
    "os.mkdir(os.path.join(data_dir, 'tiff'))\n",
    "os.mkdir(os.path.join(data_dir, 'tiff/test_seg_C0'))\n",
    "os.mkdir(os.path.join(data_dir, 'tiff/test_seg_C1'))\n",
    "os.mkdir(os.path.join(data_dir, 'tiff/test_img_C0'))\n",
    "os.mkdir(os.path.join(data_dir, 'tiff/test_img_C1'))"
   ]
  },
  {
   "cell_type": "code",
   "execution_count": null,
   "metadata": {},
   "outputs": [],
   "source": [
    "import skimage\n",
    "for i in range(X.shape[0]):\n",
    "# for i in range(2):\n",
    "    img = X[i,:,:,0]\n",
    "    skimage.io.imsave(os.path.join(data_dir, 'tiff/test_img_C0/test_img_C0_'+str(i).zfill(4)+'.tiff'),img)\n",
    "    img = X[i,:,:,1]\n",
    "    skimage.io.imsave(os.path.join(data_dir, 'tiff/test_img_C1/test_img_C1_'+str(i).zfill(4)+'.tiff'),img)\n",
    "    \n",
    "    \n",
    "    seg = y[i,:,:,0]\n",
    "    skimage.io.imsave(os.path.join(data_dir, 'tiff/test_seg_C0/test_seg_C0_'+str(i).zfill(4)+'.tiff'),seg)\n",
    "    seg = y[i,:,:,1]\n",
    "    skimage.io.imsave(os.path.join(data_dir, 'tiff/test_seg_C1/test_seg_C1_'+str(i).zfill(4)+'.tiff'),seg)\n",
    "    \n",
    "   \n",
    "    "
   ]
  }
 ],
 "metadata": {
  "kernelspec": {
   "display_name": "Python 3",
   "language": "python",
   "name": "python3"
  },
  "language_info": {
   "codemirror_mode": {
    "name": "ipython",
    "version": 3
   },
   "file_extension": ".py",
   "mimetype": "text/x-python",
   "name": "python",
   "nbconvert_exporter": "python",
   "pygments_lexer": "ipython3",
   "version": "3.7.1"
  }
 },
 "nbformat": 4,
 "nbformat_minor": 2
}
