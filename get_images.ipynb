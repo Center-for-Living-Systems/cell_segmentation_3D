{
 "cells": [
  {
   "cell_type": "markdown",
   "metadata": {},
   "source": [
    "This is to extra single frame single channel images from the npz file, for convenient checking of each images through imageJ\n",
    "\n",
    "% Liya Ding 2024.08."
   ]
  },
  {
   "cell_type": "code",
   "execution_count": 3,
   "metadata": {},
   "outputs": [],
   "source": [
    "import os\n",
    "import numpy as np\n",
    "import skimage\n",
    "\n",
    "\n",
    "# define the raw data locations and the target folder for processed images\n",
    "raw_data_dir = '/net/projects/CLS/DSI_clinic/data/raw_data/tissuenet_v1.1'\n",
    "processed_data_dir = '/net/projects/CLS/DSI_clinic/data/processed_data/tissuenet_v1.1'\n",
    "\n",
    "# for all npz files\n",
    "for filename in os.listdir(raw_data_dir):\n",
    "    if filename.endswith('.npz'):\n",
    "        # make dir for processed data sub-folder\n",
    "        this_processed_data_dir = os.path.join(processed_data_dir,filename[:-4])\n",
    "        if not os.path.isdir(this_processed_data_dir):\n",
    "            os.mkdir(this_processed_data_dir)\n",
    "        \n",
    "        # load npz file\n",
    "        raw_data = np.load(os.path.join(raw_data_dir, filename), allow_pickle=True)\n",
    "        \n",
    "        # get the image and label data\n",
    "        X = raw_data['X']\n",
    "        y = raw_data['y']\n",
    "        \n",
    "                \n",
    "        # put the channels and segmentations in different folders\n",
    "        if not os.path.isdir(os.path.join(this_processed_data_dir, 'seg_C0')):\n",
    "            os.mkdir(os.path.join(this_processed_data_dir, 'seg_C0'))\n",
    "        if not os.path.isdir(os.path.join(this_processed_data_dir, 'seg_C1')):\n",
    "            os.mkdir(os.path.join(this_processed_data_dir, 'seg_C1'))\n",
    "        if not os.path.isdir(os.path.join(this_processed_data_dir, 'img_C0')):\n",
    "            os.mkdir(os.path.join(this_processed_data_dir, 'img_C0'))\n",
    "        if not os.path.isdir(os.path.join(this_processed_data_dir, 'img_C1')):\n",
    "            os.mkdir(os.path.join(this_processed_data_dir, 'img_C1'))\n",
    "        \n",
    "        \n",
    "        # save out the single channel single frame images out\n",
    "        for i in range(X.shape[0]):\n",
    "            img = X[i,:,:,0]\n",
    "            skimage.io.imsave(os.path.join(this_processed_data_dir, 'img_C0/img_C0_'+str(i).zfill(4)+'.tiff'),img, check_contrast=False)\n",
    "            img = X[i,:,:,1]\n",
    "            skimage.io.imsave(os.path.join(this_processed_data_dir, 'img_C1/img_C1_'+str(i).zfill(4)+'.tiff'),img, check_contrast=False)\n",
    "            seg = y[i,:,:,0]\n",
    "            skimage.io.imsave(os.path.join(this_processed_data_dir, 'seg_C0/seg_C0_'+str(i).zfill(4)+'.tiff'),seg, check_contrast=False)\n",
    "            seg = y[i,:,:,1]\n",
    "            skimage.io.imsave(os.path.join(this_processed_data_dir, 'seg_C1/seg_C1_'+str(i).zfill(4)+'.tiff'),seg, check_contrast=False)   \n",
    "        \n"
   ]
  }
 ],
 "metadata": {
  "kernelspec": {
   "display_name": "Python 3",
   "language": "python",
   "name": "python3"
  },
  "language_info": {
   "codemirror_mode": {
    "name": "ipython",
    "version": 3
   },
   "file_extension": ".py",
   "mimetype": "text/x-python",
   "name": "python",
   "nbconvert_exporter": "python",
   "pygments_lexer": "ipython3",
   "version": "3.12.4"
  }
 },
 "nbformat": 4,
 "nbformat_minor": 2
}
