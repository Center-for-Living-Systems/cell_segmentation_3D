{
 "cells": [
  {
   "cell_type": "code",
   "execution_count": 1,
   "metadata": {},
   "outputs": [],
   "source": [
    "import numpy as np\n",
    "import tifffile\n",
    "import matplotlib.pyplot as plt"
   ]
  },
  {
   "cell_type": "code",
   "execution_count": 2,
   "metadata": {},
   "outputs": [],
   "source": [
    "def iou_list(GT_labels, pred_labels):\n",
    "    gt_label_list = np.unique(GT_labels)\n",
    "    \n",
    "    pred_label_list = np.unique(pred_labels)\n",
    "    current_accum = []\n",
    "\n",
    "    for label_i in pred_label_list:\n",
    "        pred_mask = pred_labels == label_i\n",
    "\n",
    "\n",
    "        values, counts = np.unique(GT_labels[pred_mask>0], return_counts=True)\n",
    "\n",
    "        ind = np.argmax(counts)\n",
    "        gt_label = values[0]        \n",
    "\n",
    "        true_mask = GT_labels == gt_label\n",
    "\n",
    "\n",
    "        current_jacc = (np.sum(np.logical_and(true_mask, pred_mask)) /\n",
    "            np.sum(np.logical_or(true_mask, pred_mask)))\n",
    "\n",
    "        current_accum.append(current_jacc)\n",
    "\n",
    "    return current_accum"
   ]
  },
  {
   "cell_type": "code",
   "execution_count": 3,
   "metadata": {},
   "outputs": [],
   "source": [
    "import tifffile\n",
    "import pandas as pd\n",
    "import numpy as np\n",
    "import matplotlib.pyplot as plt\n",
    "import os\n",
    "from matplotlib import cm"
   ]
  },
  {
   "cell_type": "code",
   "execution_count": 4,
   "metadata": {},
   "outputs": [],
   "source": [
    "# build the colormap with iterative tab10\n",
    "tab20 = cm.get_cmap('tab20', 10)\n",
    "for i in range(10):\n",
    "    tab20.colors = np.concatenate([tab20.colors,tab20.colors],axis=0)    \n",
    "tab20.colors = np.concatenate([np.zeros([1,4]),tab20.colors],axis=0)\n",
    "\n",
    "newmap = cm.get_cmap('tab20', 4000+1)\n",
    "newmap.colors = tab20.colors[0:4000+1,:]\n",
    "newmap.colors[0,:]  = np.zeros([1,4])\n",
    "newmap.colors[0,3] = 1"
   ]
  },
  {
   "cell_type": "code",
   "execution_count": 5,
   "metadata": {},
   "outputs": [
    {
     "data": {
      "text/plain": [
       "array([[0.        , 0.        , 0.        , 1.        ],\n",
       "       [0.12156863, 0.46666667, 0.70588235, 1.        ],\n",
       "       [1.        , 0.49803922, 0.05490196, 1.        ],\n",
       "       [0.17254902, 0.62745098, 0.17254902, 1.        ],\n",
       "       [0.83921569, 0.15294118, 0.15686275, 1.        ],\n",
       "       [0.58039216, 0.40392157, 0.74117647, 1.        ],\n",
       "       [0.76862745, 0.61176471, 0.58039216, 1.        ],\n",
       "       [0.96862745, 0.71372549, 0.82352941, 1.        ],\n",
       "       [0.78039216, 0.78039216, 0.78039216, 1.        ],\n",
       "       [0.85882353, 0.85882353, 0.55294118, 1.        ],\n",
       "       [0.61960784, 0.85490196, 0.89803922, 1.        ],\n",
       "       [0.12156863, 0.46666667, 0.70588235, 1.        ],\n",
       "       [1.        , 0.49803922, 0.05490196, 1.        ],\n",
       "       [0.17254902, 0.62745098, 0.17254902, 1.        ],\n",
       "       [0.83921569, 0.15294118, 0.15686275, 1.        ],\n",
       "       [0.58039216, 0.40392157, 0.74117647, 1.        ],\n",
       "       [0.76862745, 0.61176471, 0.58039216, 1.        ],\n",
       "       [0.96862745, 0.71372549, 0.82352941, 1.        ],\n",
       "       [0.78039216, 0.78039216, 0.78039216, 1.        ],\n",
       "       [0.85882353, 0.85882353, 0.55294118, 1.        ]])"
      ]
     },
     "execution_count": 5,
     "metadata": {},
     "output_type": "execute_result"
    }
   ],
   "source": [
    "newmap.colors[:20,:]"
   ]
  },
  {
   "cell_type": "code",
   "execution_count": 6,
   "metadata": {},
   "outputs": [],
   "source": [
    "\n",
    "\n",
    "GT_labels = tifffile.imread('D:/Ding/UChicago/cellsegmentation/data/stardist3Ddata/label_8_GT.tif')\n",
    "pred_labels = tifffile.imread('D:/Ding/UChicago/cellsegmentation/data/stardist3Ddata/pred_label_z8_t133.tiff')\n",
    "\n",
    "pred_labels = (pred_labels+2)*(pred_labels>0)\n",
    "GT_labels = (GT_labels+2)*(GT_labels>0)\n",
    "\n",
    "\n",
    "gt_label_list = np.unique(GT_labels)   \n",
    "pred_label_list = np.unique(pred_labels)\n",
    "current_accum = []\n",
    "\n",
    "iou_table = pd.DataFrame(columns={'seg_label','GT_lable','iou'})\n",
    "\n",
    "for label_i in pred_label_list:\n",
    "    if(label_i==0 or label_i >100000000000):\n",
    "        continue\n",
    "\n",
    "    pred_mask = pred_labels == label_i\n",
    "\n",
    "    map_list = GT_labels[pred_mask>0]\n",
    "    map_list = map_list[map_list>0]\n",
    "\n",
    "    if(map_list.shape[0]==0):\n",
    "        current_accum.append(0)\n",
    "        current_jacc = 0\n",
    "        current_accum.append(current_jacc)\n",
    "        s = pd.Series([label_i, 0,current_jacc], index=['seg_label','GT_lable','iou'])\n",
    "        iou_table = iou_table.append(s,ignore_index=True)\n",
    "        continue\n",
    "\n",
    "    values, counts = np.unique(map_list, return_counts=True)\n",
    "\n",
    "    ind = np.argmax(counts)\n",
    "    gt_label = values[ind]     \n",
    "\n",
    "    true_mask = GT_labels == gt_label\n",
    "\n",
    "    union = pred_mask.astype(int) + 2 * true_mask.astype(int)\n",
    "\n",
    "    [ind_x, ind_y] = np.where(union>0)\n",
    "\n",
    "    min_x = min(ind_x)-2\n",
    "    max_x = max(ind_x)+2\n",
    "    min_y = min(ind_y)-2\n",
    "    max_y = max(ind_y)+2\n",
    "    \n",
    "\n",
    "    \n",
    "\n",
    "    current_jacc = (np.sum(np.logical_and(true_mask[min_x:max_x, min_y:max_y], pred_mask[min_x:max_x, min_y:max_y])) /\n",
    "        np.sum(np.logical_or(true_mask[min_x:max_x, min_y:max_y], pred_mask[min_x:max_x, min_y:max_y])))\n",
    "\n",
    "\n",
    "    current_accum.append(current_jacc)\n",
    "    cropX, cropY = np.meshgrid(np.arange(0,pred_mask[min_x:max_x, min_y:max_y].shape[1]), np.arange(0,pred_mask[min_x:max_x, min_y:max_y].shape[0]))\n",
    "    \n",
    "\n",
    "    fig, ax = plt.subplots(2,3, figsize=(12,6), dpi=256, facecolor='w', edgecolor='k')\n",
    "    ax[0,0].imshow(pred_mask[min_x:max_x, min_y:max_y].astype(int)*1, cmap=newmap,interpolation='none',vmax = 4001,vmin = 0)\n",
    "    ax[0,0].axis('off')\n",
    "    ax[0,0].title.set_text('seg_label='+\"%d\" % label_i)\n",
    "\n",
    "    ax[0,1].imshow(true_mask[min_x:max_x, min_y:max_y].astype(int)*2, cmap=newmap,interpolation='none',vmax = 4001,vmin = 0)\n",
    "    ax[0,1].axis('off')\n",
    "    ax[0,1].title.set_text('GT_label='+\"%d\" % gt_label)\n",
    "    \n",
    "    ax[0,2].imshow( pred_mask[min_x:max_x, min_y:max_y].astype(int)*1 + 2 * true_mask[min_x:max_x, min_y:max_y].astype(int), cmap=newmap,interpolation='none',vmax = 4001,vmin = 0)\n",
    "    ax[0,2].axis('off')\n",
    "    # ax[0,2].contour(cropX, cropY, pred_mask[min_x:max_x, min_y:max_y].astype(int)* true_mask[min_x:max_x, min_y:max_y].astype(int),1,colors=('yellow'),linewidths=0.5)\n",
    "    ax[0,2].title.set_text('iou='+\"%.2f\" % current_jacc)\n",
    "\n",
    "\n",
    "    X, Y = np.meshgrid(np.arange(0,pred_labels.shape[1]), np.arange(0,pred_labels.shape[0]))\n",
    "    \n",
    "    ax[1,0].imshow(pred_labels, cmap=newmap,interpolation='none',vmax = 4001,vmin = 0)\n",
    "    ax[1,0].axis('off')\n",
    "    ax[1,0].plot( [min_y,max_y,max_y,min_y,min_y],[min_x,min_x,max_x,max_x,min_x])\n",
    "    ax[1,0].contour(X, Y, pred_mask,1,colors=('yellow'),linewidths=0.7)\n",
    "                \n",
    "    \n",
    "    ax[1,1].imshow(GT_labels, cmap=newmap,interpolation='none',vmax = 4001,vmin = 0)\n",
    "    ax[1,1].axis('off')\n",
    "    ax[1,1].contour(X, Y, true_mask,1,colors=('yellow'),linewidths=0.7)\n",
    "    ax[1,1].plot( [min_y,max_y,max_y,min_y,min_y],[min_x,min_x,max_x,max_x,min_x])\n",
    "    ax[1,2].axis('off')\n",
    "    fig.savefig(os.path.join('D:/Ding/UChicago/cellsegmentation/data/stardist3Ddata/iou/','seg'+str(label_i) + '_GT'+str(gt_label)+'.png'))\n",
    "\n",
    "    plt.close(fig)      \n",
    "\n",
    "    s = pd.Series([label_i, gt_label,current_jacc], index=['seg_label','GT_lable','iou'])\n",
    "    iou_table = iou_table.append(s,ignore_index=True)\n",
    "    \n",
    "\n"
   ]
  },
  {
   "cell_type": "code",
   "execution_count": 7,
   "metadata": {},
   "outputs": [
    {
     "data": {
      "text/plain": [
       "<matplotlib.image.AxesImage at 0x26f3a1e1588>"
      ]
     },
     "execution_count": 7,
     "metadata": {},
     "output_type": "execute_result"
    },
    {
     "data": {
      "image/png": "[encoded data removed]",
      "text/plain": [
       "<Figure size 640x480 with 1 Axes>"
      ]
     },
     "metadata": {},
     "output_type": "display_data"
    }
   ],
   "source": [
    "plt.imshow((pred_labels+2)*(pred_labels>0))"
   ]
  },
  {
   "cell_type": "code",
   "execution_count": 8,
   "metadata": {},
   "outputs": [
    {
     "data": {
      "text/plain": [
       "array([[False, False, False, ..., False, False, False],\n",
       "       [False, False, False, ..., False, False, False],\n",
       "       [False, False, False, ..., False, False, False],\n",
       "       ...,\n",
       "       [False, False, False, ..., False, False, False],\n",
       "       [False, False, False, ..., False, False, False],\n",
       "       [False, False, False, ..., False, False, False]])"
      ]
     },
     "execution_count": 8,
     "metadata": {},
     "output_type": "execute_result"
    }
   ],
   "source": [
    "pred_mask"
   ]
  },
  {
   "cell_type": "code",
   "execution_count": 9,
   "metadata": {},
   "outputs": [
    {
     "data": {
      "text/plain": [
       "58"
      ]
     },
     "execution_count": 9,
     "metadata": {},
     "output_type": "execute_result"
    }
   ],
   "source": [
    "label_i"
   ]
  },
  {
   "cell_type": "code",
   "execution_count": 10,
   "metadata": {},
   "outputs": [
    {
     "data": {
      "text/plain": [
       "array([[False, False, False, ..., False, False, False],\n",
       "       [False, False, False, ..., False, False, False],\n",
       "       [False, False, False, ..., False, False, False],\n",
       "       ...,\n",
       "       [False, False, False, ..., False, False, False],\n",
       "       [False, False, False, ..., False, False, False],\n",
       "       [False, False, False, ..., False, False, False]])"
      ]
     },
     "execution_count": 10,
     "metadata": {},
     "output_type": "execute_result"
    }
   ],
   "source": [
    "true_mask"
   ]
  },
  {
   "cell_type": "code",
   "execution_count": 11,
   "metadata": {},
   "outputs": [
    {
     "data": {
      "text/plain": [
       "'iou=0'"
      ]
     },
     "execution_count": 11,
     "metadata": {},
     "output_type": "execute_result"
    }
   ],
   "source": [
    "'iou='+str(current_jacc)"
   ]
  },
  {
   "cell_type": "code",
   "execution_count": 12,
   "metadata": {},
   "outputs": [
    {
     "data": {
      "text/html": [
       "<div>\n",
       "<style scoped>\n",
       "    .dataframe tbody tr th:only-of-type {\n",
       "        vertical-align: middle;\n",
       "    }\n",
       "\n",
       "    .dataframe tbody tr th {\n",
       "        vertical-align: top;\n",
       "    }\n",
       "\n",
       "    .dataframe thead th {\n",
       "        text-align: right;\n",
       "    }\n",
       "</style>\n",
       "<table border=\"1\" class=\"dataframe\">\n",
       "  <thead>\n",
       "    <tr style=\"text-align: right;\">\n",
       "      <th></th>\n",
       "      <th>seg_label</th>\n",
       "      <th>GT_lable</th>\n",
       "      <th>iou</th>\n",
       "    </tr>\n",
       "  </thead>\n",
       "  <tbody>\n",
       "    <tr>\n",
       "      <th>0</th>\n",
       "      <td>3.0</td>\n",
       "      <td>135.0</td>\n",
       "      <td>0.897196</td>\n",
       "    </tr>\n",
       "    <tr>\n",
       "      <th>1</th>\n",
       "      <td>4.0</td>\n",
       "      <td>42.0</td>\n",
       "      <td>0.747405</td>\n",
       "    </tr>\n",
       "    <tr>\n",
       "      <th>2</th>\n",
       "      <td>5.0</td>\n",
       "      <td>101.0</td>\n",
       "      <td>0.608247</td>\n",
       "    </tr>\n",
       "    <tr>\n",
       "      <th>3</th>\n",
       "      <td>6.0</td>\n",
       "      <td>44.0</td>\n",
       "      <td>0.800813</td>\n",
       "    </tr>\n",
       "    <tr>\n",
       "      <th>4</th>\n",
       "      <td>7.0</td>\n",
       "      <td>113.0</td>\n",
       "      <td>0.881057</td>\n",
       "    </tr>\n",
       "    <tr>\n",
       "      <th>5</th>\n",
       "      <td>8.0</td>\n",
       "      <td>22.0</td>\n",
       "      <td>0.867347</td>\n",
       "    </tr>\n",
       "    <tr>\n",
       "      <th>6</th>\n",
       "      <td>9.0</td>\n",
       "      <td>26.0</td>\n",
       "      <td>0.827586</td>\n",
       "    </tr>\n",
       "    <tr>\n",
       "      <th>7</th>\n",
       "      <td>10.0</td>\n",
       "      <td>111.0</td>\n",
       "      <td>0.868687</td>\n",
       "    </tr>\n",
       "    <tr>\n",
       "      <th>8</th>\n",
       "      <td>11.0</td>\n",
       "      <td>43.0</td>\n",
       "      <td>0.716475</td>\n",
       "    </tr>\n",
       "    <tr>\n",
       "      <th>9</th>\n",
       "      <td>12.0</td>\n",
       "      <td>81.0</td>\n",
       "      <td>0.793388</td>\n",
       "    </tr>\n",
       "    <tr>\n",
       "      <th>10</th>\n",
       "      <td>13.0</td>\n",
       "      <td>93.0</td>\n",
       "      <td>0.650000</td>\n",
       "    </tr>\n",
       "    <tr>\n",
       "      <th>11</th>\n",
       "      <td>14.0</td>\n",
       "      <td>175.0</td>\n",
       "      <td>0.735772</td>\n",
       "    </tr>\n",
       "    <tr>\n",
       "      <th>12</th>\n",
       "      <td>15.0</td>\n",
       "      <td>144.0</td>\n",
       "      <td>0.473451</td>\n",
       "    </tr>\n",
       "    <tr>\n",
       "      <th>13</th>\n",
       "      <td>16.0</td>\n",
       "      <td>21.0</td>\n",
       "      <td>0.854015</td>\n",
       "    </tr>\n",
       "    <tr>\n",
       "      <th>14</th>\n",
       "      <td>17.0</td>\n",
       "      <td>83.0</td>\n",
       "      <td>0.915842</td>\n",
       "    </tr>\n",
       "    <tr>\n",
       "      <th>15</th>\n",
       "      <td>18.0</td>\n",
       "      <td>110.0</td>\n",
       "      <td>0.775785</td>\n",
       "    </tr>\n",
       "    <tr>\n",
       "      <th>16</th>\n",
       "      <td>19.0</td>\n",
       "      <td>130.0</td>\n",
       "      <td>0.507634</td>\n",
       "    </tr>\n",
       "    <tr>\n",
       "      <th>17</th>\n",
       "      <td>20.0</td>\n",
       "      <td>13.0</td>\n",
       "      <td>0.882075</td>\n",
       "    </tr>\n",
       "    <tr>\n",
       "      <th>18</th>\n",
       "      <td>21.0</td>\n",
       "      <td>183.0</td>\n",
       "      <td>0.840467</td>\n",
       "    </tr>\n",
       "    <tr>\n",
       "      <th>19</th>\n",
       "      <td>22.0</td>\n",
       "      <td>98.0</td>\n",
       "      <td>0.864865</td>\n",
       "    </tr>\n",
       "    <tr>\n",
       "      <th>20</th>\n",
       "      <td>23.0</td>\n",
       "      <td>103.0</td>\n",
       "      <td>0.917808</td>\n",
       "    </tr>\n",
       "    <tr>\n",
       "      <th>21</th>\n",
       "      <td>24.0</td>\n",
       "      <td>84.0</td>\n",
       "      <td>0.883621</td>\n",
       "    </tr>\n",
       "    <tr>\n",
       "      <th>22</th>\n",
       "      <td>25.0</td>\n",
       "      <td>127.0</td>\n",
       "      <td>0.884774</td>\n",
       "    </tr>\n",
       "    <tr>\n",
       "      <th>23</th>\n",
       "      <td>26.0</td>\n",
       "      <td>25.0</td>\n",
       "      <td>0.884615</td>\n",
       "    </tr>\n",
       "    <tr>\n",
       "      <th>24</th>\n",
       "      <td>27.0</td>\n",
       "      <td>159.0</td>\n",
       "      <td>0.849057</td>\n",
       "    </tr>\n",
       "    <tr>\n",
       "      <th>25</th>\n",
       "      <td>28.0</td>\n",
       "      <td>99.0</td>\n",
       "      <td>0.763838</td>\n",
       "    </tr>\n",
       "    <tr>\n",
       "      <th>26</th>\n",
       "      <td>29.0</td>\n",
       "      <td>79.0</td>\n",
       "      <td>0.906667</td>\n",
       "    </tr>\n",
       "    <tr>\n",
       "      <th>27</th>\n",
       "      <td>30.0</td>\n",
       "      <td>37.0</td>\n",
       "      <td>0.552083</td>\n",
       "    </tr>\n",
       "    <tr>\n",
       "      <th>28</th>\n",
       "      <td>31.0</td>\n",
       "      <td>90.0</td>\n",
       "      <td>0.878378</td>\n",
       "    </tr>\n",
       "    <tr>\n",
       "      <th>29</th>\n",
       "      <td>32.0</td>\n",
       "      <td>136.0</td>\n",
       "      <td>0.588517</td>\n",
       "    </tr>\n",
       "    <tr>\n",
       "      <th>30</th>\n",
       "      <td>33.0</td>\n",
       "      <td>96.0</td>\n",
       "      <td>0.728000</td>\n",
       "    </tr>\n",
       "    <tr>\n",
       "      <th>31</th>\n",
       "      <td>34.0</td>\n",
       "      <td>23.0</td>\n",
       "      <td>0.728395</td>\n",
       "    </tr>\n",
       "    <tr>\n",
       "      <th>32</th>\n",
       "      <td>35.0</td>\n",
       "      <td>30.0</td>\n",
       "      <td>0.661479</td>\n",
       "    </tr>\n",
       "    <tr>\n",
       "      <th>33</th>\n",
       "      <td>36.0</td>\n",
       "      <td>57.0</td>\n",
       "      <td>0.676923</td>\n",
       "    </tr>\n",
       "    <tr>\n",
       "      <th>34</th>\n",
       "      <td>37.0</td>\n",
       "      <td>34.0</td>\n",
       "      <td>0.902326</td>\n",
       "    </tr>\n",
       "    <tr>\n",
       "      <th>35</th>\n",
       "      <td>38.0</td>\n",
       "      <td>86.0</td>\n",
       "      <td>0.841880</td>\n",
       "    </tr>\n",
       "    <tr>\n",
       "      <th>36</th>\n",
       "      <td>39.0</td>\n",
       "      <td>60.0</td>\n",
       "      <td>0.545064</td>\n",
       "    </tr>\n",
       "    <tr>\n",
       "      <th>37</th>\n",
       "      <td>40.0</td>\n",
       "      <td>24.0</td>\n",
       "      <td>0.537037</td>\n",
       "    </tr>\n",
       "    <tr>\n",
       "      <th>38</th>\n",
       "      <td>41.0</td>\n",
       "      <td>29.0</td>\n",
       "      <td>0.354260</td>\n",
       "    </tr>\n",
       "    <tr>\n",
       "      <th>39</th>\n",
       "      <td>42.0</td>\n",
       "      <td>142.0</td>\n",
       "      <td>0.784672</td>\n",
       "    </tr>\n",
       "    <tr>\n",
       "      <th>40</th>\n",
       "      <td>43.0</td>\n",
       "      <td>82.0</td>\n",
       "      <td>0.718978</td>\n",
       "    </tr>\n",
       "    <tr>\n",
       "      <th>41</th>\n",
       "      <td>44.0</td>\n",
       "      <td>73.0</td>\n",
       "      <td>0.227451</td>\n",
       "    </tr>\n",
       "    <tr>\n",
       "      <th>42</th>\n",
       "      <td>45.0</td>\n",
       "      <td>5.0</td>\n",
       "      <td>0.790210</td>\n",
       "    </tr>\n",
       "    <tr>\n",
       "      <th>43</th>\n",
       "      <td>46.0</td>\n",
       "      <td>35.0</td>\n",
       "      <td>0.848889</td>\n",
       "    </tr>\n",
       "    <tr>\n",
       "      <th>44</th>\n",
       "      <td>47.0</td>\n",
       "      <td>8.0</td>\n",
       "      <td>0.661765</td>\n",
       "    </tr>\n",
       "    <tr>\n",
       "      <th>45</th>\n",
       "      <td>48.0</td>\n",
       "      <td>31.0</td>\n",
       "      <td>0.758389</td>\n",
       "    </tr>\n",
       "    <tr>\n",
       "      <th>46</th>\n",
       "      <td>49.0</td>\n",
       "      <td>18.0</td>\n",
       "      <td>0.902954</td>\n",
       "    </tr>\n",
       "    <tr>\n",
       "      <th>47</th>\n",
       "      <td>50.0</td>\n",
       "      <td>166.0</td>\n",
       "      <td>0.519313</td>\n",
       "    </tr>\n",
       "    <tr>\n",
       "      <th>48</th>\n",
       "      <td>51.0</td>\n",
       "      <td>70.0</td>\n",
       "      <td>0.920000</td>\n",
       "    </tr>\n",
       "    <tr>\n",
       "      <th>49</th>\n",
       "      <td>52.0</td>\n",
       "      <td>16.0</td>\n",
       "      <td>0.507246</td>\n",
       "    </tr>\n",
       "    <tr>\n",
       "      <th>50</th>\n",
       "      <td>53.0</td>\n",
       "      <td>69.0</td>\n",
       "      <td>0.511111</td>\n",
       "    </tr>\n",
       "    <tr>\n",
       "      <th>51</th>\n",
       "      <td>54.0</td>\n",
       "      <td>138.0</td>\n",
       "      <td>0.619048</td>\n",
       "    </tr>\n",
       "    <tr>\n",
       "      <th>52</th>\n",
       "      <td>55.0</td>\n",
       "      <td>68.0</td>\n",
       "      <td>0.536000</td>\n",
       "    </tr>\n",
       "    <tr>\n",
       "      <th>53</th>\n",
       "      <td>56.0</td>\n",
       "      <td>88.0</td>\n",
       "      <td>0.824742</td>\n",
       "    </tr>\n",
       "    <tr>\n",
       "      <th>54</th>\n",
       "      <td>57.0</td>\n",
       "      <td>0.0</td>\n",
       "      <td>0.000000</td>\n",
       "    </tr>\n",
       "    <tr>\n",
       "      <th>55</th>\n",
       "      <td>58.0</td>\n",
       "      <td>0.0</td>\n",
       "      <td>0.000000</td>\n",
       "    </tr>\n",
       "  </tbody>\n",
       "</table>\n",
       "</div>"
      ],
      "text/plain": [
       "    seg_label  GT_lable       iou\n",
       "0         3.0     135.0  0.897196\n",
       "1         4.0      42.0  0.747405\n",
       "2         5.0     101.0  0.608247\n",
       "3         6.0      44.0  0.800813\n",
       "4         7.0     113.0  0.881057\n",
       "5         8.0      22.0  0.867347\n",
       "6         9.0      26.0  0.827586\n",
       "7        10.0     111.0  0.868687\n",
       "8        11.0      43.0  0.716475\n",
       "9        12.0      81.0  0.793388\n",
       "10       13.0      93.0  0.650000\n",
       "11       14.0     175.0  0.735772\n",
       "12       15.0     144.0  0.473451\n",
       "13       16.0      21.0  0.854015\n",
       "14       17.0      83.0  0.915842\n",
       "15       18.0     110.0  0.775785\n",
       "16       19.0     130.0  0.507634\n",
       "17       20.0      13.0  0.882075\n",
       "18       21.0     183.0  0.840467\n",
       "19       22.0      98.0  0.864865\n",
       "20       23.0     103.0  0.917808\n",
       "21       24.0      84.0  0.883621\n",
       "22       25.0     127.0  0.884774\n",
       "23       26.0      25.0  0.884615\n",
       "24       27.0     159.0  0.849057\n",
       "25       28.0      99.0  0.763838\n",
       "26       29.0      79.0  0.906667\n",
       "27       30.0      37.0  0.552083\n",
       "28       31.0      90.0  0.878378\n",
       "29       32.0     136.0  0.588517\n",
       "30       33.0      96.0  0.728000\n",
       "31       34.0      23.0  0.728395\n",
       "32       35.0      30.0  0.661479\n",
       "33       36.0      57.0  0.676923\n",
       "34       37.0      34.0  0.902326\n",
       "35       38.0      86.0  0.841880\n",
       "36       39.0      60.0  0.545064\n",
       "37       40.0      24.0  0.537037\n",
       "38       41.0      29.0  0.354260\n",
       "39       42.0     142.0  0.784672\n",
       "40       43.0      82.0  0.718978\n",
       "41       44.0      73.0  0.227451\n",
       "42       45.0       5.0  0.790210\n",
       "43       46.0      35.0  0.848889\n",
       "44       47.0       8.0  0.661765\n",
       "45       48.0      31.0  0.758389\n",
       "46       49.0      18.0  0.902954\n",
       "47       50.0     166.0  0.519313\n",
       "48       51.0      70.0  0.920000\n",
       "49       52.0      16.0  0.507246\n",
       "50       53.0      69.0  0.511111\n",
       "51       54.0     138.0  0.619048\n",
       "52       55.0      68.0  0.536000\n",
       "53       56.0      88.0  0.824742\n",
       "54       57.0       0.0  0.000000\n",
       "55       58.0       0.0  0.000000"
      ]
     },
     "execution_count": 12,
     "metadata": {},
     "output_type": "execute_result"
    }
   ],
   "source": [
    "iou_table"
   ]
  },
  {
   "cell_type": "code",
   "execution_count": 13,
   "metadata": {},
   "outputs": [],
   "source": [
    "union = pred_mask.astype(float) + 2 * true_mask.astype(float)\n",
    "\n",
    "[a,b] = np.where(union>0)"
   ]
  },
  {
   "cell_type": "code",
   "execution_count": 14,
   "metadata": {},
   "outputs": [
    {
     "data": {
      "text/plain": [
       "array([149, 150, 151, 152, 153, 154, 155, 148, 149, 150, 151, 152, 153,\n",
       "       154, 155, 156, 147, 148, 149, 150, 151, 152, 153, 154, 155, 156,\n",
       "       147, 148, 149, 150, 151, 152, 153, 154, 155, 156, 157, 147, 148,\n",
       "       149, 150, 151, 152, 153, 154, 155, 156, 157, 148, 149, 150, 151,\n",
       "       152, 153, 154, 155, 156, 157, 148, 149, 150, 151, 152, 153, 154,\n",
       "       155, 156, 157, 148, 149, 150, 151, 152, 153, 154, 155, 156, 149,\n",
       "       150, 151, 152, 153, 154, 155, 150, 151, 152, 153, 154, 151, 152,\n",
       "       153, 180, 181, 182, 183, 184, 178, 179, 180, 181, 182, 183, 184,\n",
       "       185, 177, 178, 179, 180, 181, 182, 183, 184, 185, 177, 178, 179,\n",
       "       180, 181, 182, 183, 184, 185, 177, 178, 179, 180, 181, 182, 183,\n",
       "       184, 185, 177, 178, 179, 180, 181, 182, 183, 184, 177, 178, 179,\n",
       "       180, 181, 182, 183, 177, 178, 179, 180, 181, 182, 179], dtype=int64)"
      ]
     },
     "execution_count": 14,
     "metadata": {},
     "output_type": "execute_result"
    }
   ],
   "source": [
    "b"
   ]
  },
  {
   "cell_type": "code",
   "execution_count": 15,
   "metadata": {},
   "outputs": [
    {
     "data": {
      "text/plain": [
       "<matplotlib.image.AxesImage at 0x26f3b435c18>"
      ]
     },
     "execution_count": 15,
     "metadata": {},
     "output_type": "execute_result"
    },
    {
     "data": {
      "image/png": "[encoded data removed]",
      "text/plain": [
       "<Figure size 640x480 with 1 Axes>"
      ]
     },
     "metadata": {},
     "output_type": "display_data"
    }
   ],
   "source": [
    "plt.imshow(pred_mask)"
   ]
  },
  {
   "cell_type": "code",
   "execution_count": 16,
   "metadata": {},
   "outputs": [
    {
     "name": "stderr",
     "output_type": "stream",
     "text": [
      "c:\\Users\\dingl\\anaconda3\\envs\\segmentation\\lib\\site-packages\\ipykernel_launcher.py:1: DeprecationWarning: `np.float` is a deprecated alias for the builtin `float`. To silence this warning, use `float` by itself. Doing this will not modify any behavior and is safe. If you specifically wanted the numpy scalar type, use `np.float64` here.\n",
      "Deprecated in NumPy 1.20; for more details and guidance: https://numpy.org/devdocs/release/1.20.0-notes.html#deprecations\n",
      "  \"\"\"Entry point for launching an IPython kernel.\n"
     ]
    },
    {
     "data": {
      "text/plain": [
       "array([[0., 0., 0., ..., 0., 0., 0.],\n",
       "       [0., 0., 0., ..., 0., 0., 0.],\n",
       "       [0., 0., 0., ..., 0., 0., 0.],\n",
       "       ...,\n",
       "       [0., 0., 0., ..., 0., 0., 0.],\n",
       "       [0., 0., 0., ..., 0., 0., 0.],\n",
       "       [0., 0., 0., ..., 0., 0., 0.]])"
      ]
     },
     "execution_count": 16,
     "metadata": {},
     "output_type": "execute_result"
    }
   ],
   "source": [
    "pred_mask.astype(np.float)"
   ]
  },
  {
   "cell_type": "code",
   "execution_count": 17,
   "metadata": {},
   "outputs": [
    {
     "data": {
      "text/plain": [
       "array([[False, False, False, ..., False, False, False],\n",
       "       [False, False, False, ..., False, False, False],\n",
       "       [False, False, False, ..., False, False, False],\n",
       "       ...,\n",
       "       [False, False, False, ..., False, False, False],\n",
       "       [False, False, False, ..., False, False, False],\n",
       "       [False, False, False, ..., False, False, False]])"
      ]
     },
     "execution_count": 17,
     "metadata": {},
     "output_type": "execute_result"
    }
   ],
   "source": [
    "pred_mask"
   ]
  },
  {
   "cell_type": "code",
   "execution_count": 18,
   "metadata": {},
   "outputs": [
    {
     "data": {
      "text/plain": [
       "array([ 0,  3,  4,  5,  6,  7,  8,  9, 10, 11, 12, 13, 14, 15, 16, 17, 18,\n",
       "       19, 20, 21, 22, 23, 24, 25, 26, 27, 28, 29, 30, 31, 32, 33, 34, 35,\n",
       "       36, 37, 38, 39, 40, 41, 42, 43, 44, 45, 46, 47, 48, 49, 50, 51, 52,\n",
       "       53, 54, 55, 56, 57, 58], dtype=uint16)"
      ]
     },
     "execution_count": 18,
     "metadata": {},
     "output_type": "execute_result"
    }
   ],
   "source": [
    "pred_label_list"
   ]
  },
  {
   "cell_type": "code",
   "execution_count": 19,
   "metadata": {},
   "outputs": [
    {
     "data": {
      "text/plain": [
       "array([  0.,   5.,   8.,  13.,  16.,  18.,  21.,  22.,  23.,  24.,  25.,\n",
       "        26.,  27.,  29.,  30.,  31.,  34.,  35.,  37.,  42.,  43.,  44.,\n",
       "        49.,  57.,  60.,  68.,  69.,  70.,  73.,  79.,  81.,  82.,  83.,\n",
       "        84.,  86.,  88.,  90.,  93.,  96.,  98.,  99., 101., 103., 106.,\n",
       "       110., 111., 113., 127., 130., 135., 136., 138., 142., 144., 159.,\n",
       "       166., 175., 183., 184., 187.], dtype=float32)"
      ]
     },
     "execution_count": 19,
     "metadata": {},
     "output_type": "execute_result"
    }
   ],
   "source": [
    "gt_label_list"
   ]
  },
  {
   "cell_type": "code",
   "execution_count": 50,
   "metadata": {},
   "outputs": [
    {
     "data": {
      "text/plain": [
       "Text(0, 10, 'Precision=0.72')"
      ]
     },
     "execution_count": 50,
     "metadata": {},
     "output_type": "execute_result"
    },
    {
     "data": {
      "image/png": "[encoded data removed]",
      "text/plain": [
       "<Figure size 1536x512 with 1 Axes>"
      ]
     },
     "metadata": {},
     "output_type": "display_data"
    }
   ],
   "source": [
    "import matplotlib.pyplot as plt\n",
    "fig, ax = plt.subplots(1,1, figsize=(6,2), dpi=256, facecolor='w', edgecolor='k')\n",
    "plt.hist(current_accum,20)\n",
    "res = np.array(current_accum)\n",
    "plt.text(0,10,'Precision='+ \"%.2f\" % (res[res>0.6].shape[0]/res.shape[0]))"
   ]
  },
  {
   "cell_type": "code",
   "execution_count": 33,
   "metadata": {},
   "outputs": [],
   "source": [
    "\n",
    "res = np.array(current_accum)"
   ]
  },
  {
   "cell_type": "code",
   "execution_count": 48,
   "metadata": {},
   "outputs": [
    {
     "data": {
      "text/plain": [
       "0.7241379310344828"
      ]
     },
     "execution_count": 48,
     "metadata": {},
     "output_type": "execute_result"
    }
   ],
   "source": [
    "res[res>0.6].shape[0]/res.shape[0]\n",
    "\n"
   ]
  },
  {
   "cell_type": "code",
   "execution_count": 44,
   "metadata": {},
   "outputs": [
    {
     "ename": "NameError",
     "evalue": "name 'length' is not defined",
     "output_type": "error",
     "traceback": [
      "\u001b[1;31m---------------------------------------------------------------------------\u001b[0m",
      "\u001b[1;31mNameError\u001b[0m                                 Traceback (most recent call last)",
      "\u001b[1;32m~\\AppData\\Local\\Temp\\ipykernel_37532\\3396895077.py\u001b[0m in \u001b[0;36m<module>\u001b[1;34m\u001b[0m\n\u001b[1;32m----> 1\u001b[1;33m \u001b[0mlength\u001b[0m\u001b[1;33m(\u001b[0m\u001b[0mind\u001b[0m\u001b[1;33m)\u001b[0m\u001b[1;33m\u001b[0m\u001b[1;33m\u001b[0m\u001b[0m\n\u001b[0m",
      "\u001b[1;31mNameError\u001b[0m: name 'length' is not defined"
     ]
    }
   ],
   "source": []
  }
 ],
 "metadata": {
  "kernelspec": {
   "display_name": "segmentation",
   "language": "python",
   "name": "python3"
  },
  "language_info": {
   "codemirror_mode": {
    "name": "ipython",
    "version": 3
   },
   "file_extension": ".py",
   "mimetype": "text/x-python",
   "name": "python",
   "nbconvert_exporter": "python",
   "pygments_lexer": "ipython3",
   "version": "3.7.1"
  }
 },
 "nbformat": 4,
 "nbformat_minor": 2
}
